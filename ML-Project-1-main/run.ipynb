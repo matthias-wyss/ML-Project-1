{
 "cells": [
  {
   "cell_type": "code",
   "execution_count": 1,
   "id": "dffb406d-4b63-42d2-aa85-bb10e944e374",
   "metadata": {},
   "outputs": [],
   "source": [
    "from utils import *\n",
    "from helpers import *\n",
    "from preprocess_data import *\n",
    "%load_ext autoreload\n",
    "%autoreload 2"
   ]
  },
  {
   "cell_type": "code",
   "execution_count": 2,
   "id": "77bb8a39-0614-4ffd-93cb-5bf5823d86e0",
   "metadata": {},
   "outputs": [],
   "source": [
    "x_train, x_test, y_train, train_ids, test_ids = load_csv_data('data/dataset')"
   ]
  },
  {
   "cell_type": "code",
   "execution_count": 3,
   "id": "0c37d077-7c8f-4c07-a167-81e7d7569582",
   "metadata": {},
   "outputs": [
    {
     "name": "stdout",
     "output_type": "stream",
     "text": [
      "Loaded tuple: ('ridge_regression', np.float64(0.2), np.float64(0.01), np.float64(0.0))\n"
     ]
    }
   ],
   "source": [
    "import pickle\n",
    "\n",
    "# Replace 'file_path.pkl' with the path to your pickle file\n",
    "file_path = 'best_ridge_regression_params'\n",
    "\n",
    "# Open the pickle file in read-binary mode\n",
    "with open(file_path, 'rb') as file:\n",
    "    data_tuple = pickle.load(file)\n",
    "\n",
    "# Display the entire tuple\n",
    "print(\"Loaded tuple:\", data_tuple)\n",
    "\n",
    "method=data_tuple[0]\n",
    "best_threshold = data_tuple[1]\n",
    "best_lambda = data_tuple[2]\n",
    "best_gamma = data_tuple[3]"
   ]
  },
  {
   "cell_type": "code",
   "execution_count": 5,
   "id": "954cb0f2-ea4b-4ed4-9083-ee07182d01db",
   "metadata": {},
   "outputs": [
    {
     "name": "stdout",
     "output_type": "stream",
     "text": [
      "Labels converted from -1 to 0.\n",
      "6 features where all values are the same removed.\n",
      "Replaced all NaN values with -1.\n",
      "Data standardized using z-score scaling.\n",
      "Original sizes:\n",
      "  - Majority class (0): 299160 (91.17%)\n",
      "  - Minority class (1): 28975 (8.83%)\n",
      "Minority class upsampled:\n",
      "  - Class (0): 299160 (80.00%)\n",
      "  - Class (1): 74790 (20.00%)\n",
      "PCA performed to reduce features from 315 to 299.\n",
      "Number of predicted labels -1: 95266\n",
      "Number of predicted labels 1: 14113\n"
     ]
    },
    {
     "data": {
      "text/plain": [
       "array([[328135,     -1],\n",
       "       [328136,     -1],\n",
       "       [328137,     -1],\n",
       "       ...,\n",
       "       [437511,     -1],\n",
       "       [437512,      1],\n",
       "       [437513,     -1]])"
      ]
     },
     "execution_count": 5,
     "metadata": {},
     "output_type": "execute_result"
    }
   ],
   "source": [
    "predict_with_method(x_train, y_train, x_test, test_ids, method=method, lambda_=best_lambda, gamma=best_gamma, decision_threshold=best_threshold )"
   ]
  },
  {
   "cell_type": "code",
   "execution_count": null,
   "id": "e0e5b3eb-d852-40c5-860e-52e876e89221",
   "metadata": {},
   "outputs": [],
   "source": []
  }
 ],
 "metadata": {
  "kernelspec": {
   "display_name": "Python 3 (ipykernel)",
   "language": "python",
   "name": "python3"
  },
  "language_info": {
   "codemirror_mode": {
    "name": "ipython",
    "version": 3
   },
   "file_extension": ".py",
   "mimetype": "text/x-python",
   "name": "python",
   "nbconvert_exporter": "python",
   "pygments_lexer": "ipython3",
   "version": "3.12.6"
  }
 },
 "nbformat": 4,
 "nbformat_minor": 5
}
